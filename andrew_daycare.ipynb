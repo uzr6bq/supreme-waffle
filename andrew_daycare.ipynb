{
 "cells": [
  {
   "cell_type": "code",
   "execution_count": 29,
   "metadata": {},
   "outputs": [],
   "source": [
    "import calendar\n",
    "import datetime as dt\n",
    "from datetime import date, datetime\n",
    "import holidays"
   ]
  },
  {
   "cell_type": "code",
   "execution_count": 10,
   "metadata": {},
   "outputs": [],
   "source": [
    "def count_days(curr_year=datetime.now().year, curr_month=datetime.now().month, carryover=0):\n",
    "    # Map day of the week to its corresponding index\n",
    "    days_dict = {\"Monday\": 0, \"Wednesday\": 2, \"Friday\": 4}\n",
    "    \n",
    "    # Get the weekday and the number of days in the month\n",
    "    _, num_days = calendar.monthrange(curr_year, curr_month)\n",
    "    \n",
    "    # Initialize a counter for the total count\n",
    "    total_count = 0\n",
    "    \n",
    "    # Create an instance of the US holidays\n",
    "    us_holidays = holidays.US(years=curr_year)\n",
    "    \n",
    "    # Count the specific weekdays in the month\n",
    "    for i in range(1, num_days + 1):\n",
    "        if calendar.weekday(curr_year, curr_month, i) in days_dict.values() and not date(curr_year, curr_month, i) in us_holidays:\n",
    "            total_count += 1\n",
    "    \n",
    "    return total_count-carryover"
   ]
  },
  {
   "cell_type": "code",
   "execution_count": 19,
   "metadata": {},
   "outputs": [
    {
     "name": "stdout",
     "output_type": "stream",
     "text": [
      "8\n"
     ]
    }
   ],
   "source": [
    "# Example usage:\n",
    "print(count_days(carryover=3))  # Number of Mondays, Wednesdays, and Fridays in February 2024"
   ]
  },
  {
   "cell_type": "code",
   "execution_count": 35,
   "metadata": {},
   "outputs": [
    {
     "name": "stdout",
     "output_type": "stream",
     "text": [
      "pay lilly for February, 2024: 1054.5\n"
     ]
    }
   ],
   "source": [
    "month_number = datetime.now().month\n",
    "month_name = calendar.month_name[month_number]\n",
    "\n",
    "print(f'pay lilly for {month_name}, {datetime.now().year}:',814.50+(30*count_days(carryover=3)))"
   ]
  },
  {
   "cell_type": "code",
   "execution_count": null,
   "metadata": {},
   "outputs": [],
   "source": []
  }
 ],
 "metadata": {
  "kernelspec": {
   "display_name": "Python 3",
   "language": "python",
   "name": "python3"
  },
  "language_info": {
   "codemirror_mode": {
    "name": "ipython",
    "version": 3
   },
   "file_extension": ".py",
   "mimetype": "text/x-python",
   "name": "python",
   "nbconvert_exporter": "python",
   "pygments_lexer": "ipython3",
   "version": "3.12.0"
  }
 },
 "nbformat": 4,
 "nbformat_minor": 2
}
